{
 "cells": [
  {
   "cell_type": "markdown",
   "metadata": {},
   "source": [
    "# **The Worst Ramen in the World**"
   ]
  },
  {
   "cell_type": "code",
   "execution_count": 1,
   "metadata": {},
   "outputs": [],
   "source": [
    "import numpy as np\n",
    "import pandas as pd\n",
    "import matplotlib.pyplot as plt"
   ]
  },
  {
   "cell_type": "markdown",
   "metadata": {},
   "source": [
    "# **1. Overview**\n",
    "\n",
    "This analysis was created originally for a challenge of School of AI Vancouver to practice exploratory data analysis (EDA). I know the Ramen Rating dataset through Kaggle: https://www.kaggle.com/residentmario/ramen-ratings/. For this analysis, I downloaded the most recent dataset as of January 19th, 2020 here: https://www.theramenrater.com/resources-2/the-list/.\n",
    "\n",
    "Before diving into the data, I would love to know some context around it. This is particularly helpful to form questions and set expectation around the dataset.\n",
    "\n",
    "- Firstly, the rating is from Hans Lienesch, who enjoys instant noodles a lot since a small kid. With this fact, I think the rating is bias to his preference. For a fun EDA, without any machine learning application, this is an interesting dataset to look at. \n",
    "\n",
    "- The full list contains 2816 observations. It was 2943 last year when I first took a look -- I think Hans must have cleaned it up a bit.\n",
    "\n",
    "- Hans also has Top Ten lists: https://www.theramenrater.com/top-ten-lists/. The column `Top Ten` might (or might not) reflect them.\n",
    "\n",
    "- From what I found out later in this notebook, Hans tried not only the ramen noodle, but also other food with ramen taste - ramen chocolate, ramen Pringles. This just makes the list much more interesting! I'm super excited to dive into it. "
   ]
  },
  {
   "cell_type": "code",
   "execution_count": 2,
   "metadata": {},
   "outputs": [
    {
     "data": {
      "text/html": [
       "<div>\n",
       "<style scoped>\n",
       "    .dataframe tbody tr th:only-of-type {\n",
       "        vertical-align: middle;\n",
       "    }\n",
       "\n",
       "    .dataframe tbody tr th {\n",
       "        vertical-align: top;\n",
       "    }\n",
       "\n",
       "    .dataframe thead th {\n",
       "        text-align: right;\n",
       "    }\n",
       "</style>\n",
       "<table border=\"1\" class=\"dataframe\">\n",
       "  <thead>\n",
       "    <tr style=\"text-align: right;\">\n",
       "      <th></th>\n",
       "      <th>Review #</th>\n",
       "      <th>Brand</th>\n",
       "      <th>Variety</th>\n",
       "      <th>Style</th>\n",
       "      <th>Country</th>\n",
       "      <th>Stars</th>\n",
       "      <th>Top Ten</th>\n",
       "    </tr>\n",
       "  </thead>\n",
       "  <tbody>\n",
       "    <tr>\n",
       "      <th>0</th>\n",
       "      <td>2816</td>\n",
       "      <td>Nissin</td>\n",
       "      <td>Top Ramen Hot Spicy Beef Ramen Noodle Soup</td>\n",
       "      <td>Pack</td>\n",
       "      <td>United States</td>\n",
       "      <td>3</td>\n",
       "      <td>NaN</td>\n",
       "    </tr>\n",
       "    <tr>\n",
       "      <th>1</th>\n",
       "      <td>2815</td>\n",
       "      <td>Sapporo Ichiban</td>\n",
       "      <td>Pokemon Shoyu Ramen</td>\n",
       "      <td>Cup</td>\n",
       "      <td>Japan</td>\n",
       "      <td>3.5</td>\n",
       "      <td>NaN</td>\n",
       "    </tr>\n",
       "    <tr>\n",
       "      <th>2</th>\n",
       "      <td>2814</td>\n",
       "      <td>Little Couples Q Noodle</td>\n",
       "      <td>Taiwan Sauce Taste</td>\n",
       "      <td>Pack</td>\n",
       "      <td>Taiwan</td>\n",
       "      <td>4.5</td>\n",
       "      <td>NaN</td>\n",
       "    </tr>\n",
       "    <tr>\n",
       "      <th>3</th>\n",
       "      <td>2813</td>\n",
       "      <td>Little Couples Q Noodle</td>\n",
       "      <td>Oyster Sauce Taste</td>\n",
       "      <td>Pack</td>\n",
       "      <td>Taiwan</td>\n",
       "      <td>3.5</td>\n",
       "      <td>NaN</td>\n",
       "    </tr>\n",
       "    <tr>\n",
       "      <th>4</th>\n",
       "      <td>2812</td>\n",
       "      <td>Little Couples Q Noodle</td>\n",
       "      <td>Fried Garlic Taste</td>\n",
       "      <td>Pack</td>\n",
       "      <td>Taiwan</td>\n",
       "      <td>5</td>\n",
       "      <td>NaN</td>\n",
       "    </tr>\n",
       "  </tbody>\n",
       "</table>\n",
       "</div>"
      ],
      "text/plain": [
       "   Review #                    Brand  \\\n",
       "0      2816                   Nissin   \n",
       "1      2815          Sapporo Ichiban   \n",
       "2      2814  Little Couples Q Noodle   \n",
       "3      2813  Little Couples Q Noodle   \n",
       "4      2812  Little Couples Q Noodle   \n",
       "\n",
       "                                      Variety Style        Country Stars  \\\n",
       "0  Top Ramen Hot Spicy Beef Ramen Noodle Soup  Pack  United States     3   \n",
       "1                         Pokemon Shoyu Ramen   Cup          Japan   3.5   \n",
       "2                          Taiwan Sauce Taste  Pack         Taiwan   4.5   \n",
       "3                          Oyster Sauce Taste  Pack         Taiwan   3.5   \n",
       "4                          Fried Garlic Taste  Pack         Taiwan     5   \n",
       "\n",
       "  Top Ten  \n",
       "0     NaN  \n",
       "1     NaN  \n",
       "2     NaN  \n",
       "3     NaN  \n",
       "4     NaN  "
      ]
     },
     "execution_count": 2,
     "metadata": {},
     "output_type": "execute_result"
    }
   ],
   "source": [
    "df = pd.read_csv(\"../data/explore-ramen/TheRamenRater_TheBigList.csv\")\n",
    "df.head()"
   ]
  },
  {
   "cell_type": "markdown",
   "metadata": {},
   "source": [
    "There are 7 columns and 2816 rows in this dataset."
   ]
  },
  {
   "cell_type": "code",
   "execution_count": 3,
   "metadata": {},
   "outputs": [
    {
     "data": {
      "text/plain": [
       "(2816, 7)"
      ]
     },
     "execution_count": 3,
     "metadata": {},
     "output_type": "execute_result"
    }
   ],
   "source": [
    "df.shape"
   ]
  },
  {
   "cell_type": "markdown",
   "metadata": {},
   "source": [
    "However, in column `Top Ten`, there are only 41 observations and a lot of missing values. A surprising thing I see in this summary is the `type` of `Stars` - a variable that captures ratings. I thought it would be a numeric column, but it is `object` instead - which stands for a column that includes strings."
   ]
  },
  {
   "cell_type": "code",
   "execution_count": 4,
   "metadata": {},
   "outputs": [
    {
     "name": "stdout",
     "output_type": "stream",
     "text": [
      "<class 'pandas.core.frame.DataFrame'>\n",
      "RangeIndex: 2816 entries, 0 to 2815\n",
      "Data columns (total 7 columns):\n",
      "Review #    2816 non-null int64\n",
      "Brand       2816 non-null object\n",
      "Variety     2816 non-null object\n",
      "Style       2814 non-null object\n",
      "Country     2816 non-null object\n",
      "Stars       2816 non-null object\n",
      "Top Ten     41 non-null object\n",
      "dtypes: int64(1), object(6)\n",
      "memory usage: 154.1+ KB\n"
     ]
    }
   ],
   "source": [
    "df.info()"
   ]
  },
  {
   "cell_type": "markdown",
   "metadata": {},
   "source": [
    "## **1.1 Categorical variables**\n",
    "\n",
    "Here are the number of unique values of `Brand`, `Variety`, `Style` and `Country`. In this notebook, I will look at variables with under 100 values."
   ]
  },
  {
   "cell_type": "code",
   "execution_count": 5,
   "metadata": {},
   "outputs": [
    {
     "data": {
      "text/plain": [
       "Brand       388\n",
       "Variety    2631\n",
       "Style         8\n",
       "Country      39\n",
       "Top Ten      38\n",
       "dtype: int64"
      ]
     },
     "execution_count": 5,
     "metadata": {},
     "output_type": "execute_result"
    }
   ],
   "source": [
    "df[['Brand', 'Variety', 'Style', 'Country', 'Top Ten']].nunique()"
   ]
  },
  {
   "cell_type": "markdown",
   "metadata": {},
   "source": [
    "### **`Style`**\n",
    "\n",
    "Now you may notice that there is `nan` in this list. The information from `df.info()` above shows that there are 2 missing values."
   ]
  },
  {
   "cell_type": "code",
   "execution_count": 6,
   "metadata": {},
   "outputs": [
    {
     "data": {
      "text/plain": [
       "array(['Pack', 'Cup', 'Bowl', 'Tray', 'Box', 'Restaurant', 'Can', 'Bar',\n",
       "       nan], dtype=object)"
      ]
     },
     "execution_count": 6,
     "metadata": {},
     "output_type": "execute_result"
    }
   ],
   "source": [
    "df['Style'].unique()"
   ]
  },
  {
   "cell_type": "markdown",
   "metadata": {},
   "source": [
    "These are the two ramen without style. I did a little search and they look like a `Pack` to me, so I will fill in the blank here with `Pack`\n",
    "* Kamfen E Menm Chicken: https://www.theramenrater.com/2011/06/17/428-kamfen-e-men-noodles-artificial-chicken-soup-flavor/\n",
    "* Unif 100 Furong Shrimp: https://www.theramenrater.com/2010/09/14/unif-100-instant-noodles-furong-shrimp-flavor/"
   ]
  },
  {
   "cell_type": "code",
   "execution_count": 7,
   "metadata": {},
   "outputs": [
    {
     "data": {
      "text/html": [
       "<div>\n",
       "<style scoped>\n",
       "    .dataframe tbody tr th:only-of-type {\n",
       "        vertical-align: middle;\n",
       "    }\n",
       "\n",
       "    .dataframe tbody tr th {\n",
       "        vertical-align: top;\n",
       "    }\n",
       "\n",
       "    .dataframe thead th {\n",
       "        text-align: right;\n",
       "    }\n",
       "</style>\n",
       "<table border=\"1\" class=\"dataframe\">\n",
       "  <thead>\n",
       "    <tr style=\"text-align: right;\">\n",
       "      <th></th>\n",
       "      <th>Review #</th>\n",
       "      <th>Brand</th>\n",
       "      <th>Variety</th>\n",
       "      <th>Style</th>\n",
       "      <th>Country</th>\n",
       "      <th>Stars</th>\n",
       "      <th>Top Ten</th>\n",
       "    </tr>\n",
       "  </thead>\n",
       "  <tbody>\n",
       "    <tr>\n",
       "      <th>2388</th>\n",
       "      <td>428</td>\n",
       "      <td>Kamfen</td>\n",
       "      <td>E Menm Chicken</td>\n",
       "      <td>NaN</td>\n",
       "      <td>China</td>\n",
       "      <td>3.75</td>\n",
       "      <td>NaN</td>\n",
       "    </tr>\n",
       "    <tr>\n",
       "      <th>2678</th>\n",
       "      <td>138</td>\n",
       "      <td>Unif</td>\n",
       "      <td>100 Furong Shrimp</td>\n",
       "      <td>NaN</td>\n",
       "      <td>Taiwan</td>\n",
       "      <td>3</td>\n",
       "      <td>NaN</td>\n",
       "    </tr>\n",
       "  </tbody>\n",
       "</table>\n",
       "</div>"
      ],
      "text/plain": [
       "      Review #   Brand            Variety Style Country Stars Top Ten\n",
       "2388       428  Kamfen     E Menm Chicken   NaN   China  3.75     NaN\n",
       "2678       138    Unif  100 Furong Shrimp   NaN  Taiwan     3     NaN"
      ]
     },
     "execution_count": 7,
     "metadata": {},
     "output_type": "execute_result"
    }
   ],
   "source": [
    "df[df['Style'].isnull()]"
   ]
  },
  {
   "cell_type": "markdown",
   "metadata": {},
   "source": [
    "Below is a very lazy code to assign a value to a missing row. It works in this situation, but it is not the best solution. Why? \n",
    "* It works here because both of my missing values can be filled with `Pack`\n",
    "* It will not work if we have to fill different values for each of them"
   ]
  },
  {
   "cell_type": "code",
   "execution_count": 8,
   "metadata": {},
   "outputs": [],
   "source": [
    "df['Style'] = np.where(df['Style'].isnull(), 'Pack', df['Style'])"
   ]
  },
  {
   "cell_type": "markdown",
   "metadata": {},
   "source": [
    "### **`Country`**\n",
    "\n",
    "This list looks interesting! I thought instant noodle would be in Asia only. However, from this list, instant noodles can be found in many countries in all continents!"
   ]
  },
  {
   "cell_type": "code",
   "execution_count": 9,
   "metadata": {},
   "outputs": [
    {
     "data": {
      "text/plain": [
       "array(['United States', 'Japan', 'Taiwan', 'Malaysia', 'Hong Kong',\n",
       "       'Indonesia', 'South Korea', 'Thailand', 'Poland', 'Singapore',\n",
       "       'China', 'USA', 'Vietnam', 'Canada', 'India', 'Phlippines',\n",
       "       'Nigeria', 'Ghana', 'Germany', 'Hungary', 'Mexico', 'Fiji',\n",
       "       'Australia', 'Pakistan', 'Bangladesh', 'Nepal', 'Brazil', 'UK',\n",
       "       'Myanmar', 'Netherlands', 'Cambodia', 'Finland', 'Sarawak',\n",
       "       'Philippines', 'Sweden', 'Colombia', 'Estonia', 'Holland', 'Dubai'],\n",
       "      dtype=object)"
      ]
     },
     "execution_count": 9,
     "metadata": {},
     "output_type": "execute_result"
    }
   ],
   "source": [
    "df['Country'].unique()"
   ]
  },
  {
   "cell_type": "markdown",
   "metadata": {},
   "source": [
    "In order to digest the information better, I want to sort this list of countries alphabetically. To to it, I will sort the column first, then show only distinct countries."
   ]
  },
  {
   "cell_type": "code",
   "execution_count": 10,
   "metadata": {},
   "outputs": [
    {
     "data": {
      "text/plain": [
       "array(['Australia', 'Bangladesh', 'Brazil', 'Cambodia', 'Canada', 'China',\n",
       "       'Colombia', 'Dubai', 'Estonia', 'Fiji', 'Finland', 'Germany',\n",
       "       'Ghana', 'Holland', 'Hong Kong', 'Hungary', 'India', 'Indonesia',\n",
       "       'Japan', 'Malaysia', 'Mexico', 'Myanmar', 'Nepal', 'Netherlands',\n",
       "       'Nigeria', 'Pakistan', 'Philippines', 'Phlippines', 'Poland',\n",
       "       'Sarawak', 'Singapore', 'South Korea', 'Sweden', 'Taiwan',\n",
       "       'Thailand', 'UK', 'USA', 'United States', 'Vietnam'], dtype=object)"
      ]
     },
     "execution_count": 10,
     "metadata": {},
     "output_type": "execute_result"
    }
   ],
   "source": [
    "df['Country'].sort_values().unique()"
   ]
  },
  {
   "cell_type": "markdown",
   "metadata": {},
   "source": [
    "### **`Top Ten`**\n",
    "\n",
    "So apparently, this column only has top ten ramen in each year, from 2012 to 2016. I guess it is the general top ten, but not the different top ten lists I added link above. "
   ]
  },
  {
   "cell_type": "code",
   "execution_count": 11,
   "metadata": {},
   "outputs": [
    {
     "data": {
      "text/plain": [
       "array([nan, '2016 #10', '2016 #1', '2016 #8', '2016 #5', '2016 #9',\n",
       "       '2016 #7', '2015 #10', '2015 #7', '2015 #4', '2015 #9', '2015 #6',\n",
       "       '2015 #1', '2013 #10', '2015 #8', '2014 #7', '2014 #4', '2014 #9',\n",
       "       '2014 #10', '2014 #8', '2014 #5', '2014 #6', '2014 #1', '2013 #1',\n",
       "       '2013 #2', '2013 #4', '\\n', '2013 #9', '2013 #3', '2012 #10',\n",
       "       '2012 #7', '2012 #5', '2012 #3', '2012 #6', '2012 #9', '2012 #1',\n",
       "       '2012 #2', '2013 #6', '2012 #4'], dtype=object)"
      ]
     },
     "execution_count": 11,
     "metadata": {},
     "output_type": "execute_result"
    }
   ],
   "source": [
    "df['Top Ten'].unique()"
   ]
  },
  {
   "cell_type": "markdown",
   "metadata": {},
   "source": [
    "To digest this list better, I want to see only the year."
   ]
  },
  {
   "cell_type": "code",
   "execution_count": 12,
   "metadata": {},
   "outputs": [
    {
     "data": {
      "text/plain": [
       "array(['\\n', '2012 ', '2013 ', '2014 ', '2015 ', '2016 ', nan],\n",
       "      dtype=object)"
      ]
     },
     "execution_count": 12,
     "metadata": {},
     "output_type": "execute_result"
    }
   ],
   "source": [
    "df['Top Ten'].str.split(\"#\", expand=True)[0].sort_values().unique()"
   ]
  },
  {
   "cell_type": "markdown",
   "metadata": {},
   "source": [
    "## **1.2 Numerical variable** "
   ]
  },
  {
   "cell_type": "markdown",
   "metadata": {},
   "source": [
    "### **`Stars`**\n",
    "\n",
    "In Python, if a column has a string value in it, it will be transformed to type `object` even though the majority of the values are numeric. Thus, after seeing the type of this column being `object`, I'm curious what are the unique values and if there are any string values in it. \n",
    "\n",
    "I see that besides continuous rating from 1 to 5, we have ramen that are `Unrated`, `NR` or having mixing rates such as `5/2.5`."
   ]
  },
  {
   "cell_type": "code",
   "execution_count": 13,
   "metadata": {},
   "outputs": [
    {
     "data": {
      "text/plain": [
       "array(['3', '3.5', '4.5', '5', '2.75', '3.75', '0.5', '0.25', '4.25',\n",
       "       '1.5', '4', '2', '3.25', '4.75', '0', '1/4', '1/2', '1/3', '2.25',\n",
       "       '1', 'NR', '3.5/2.5', '4/4', '5/5', '4.5/5', '5/2.5', '5/4',\n",
       "       '4.25/5', '2.5', '4.3', '5.00', '4.50', 'Unrated', '4.0', '1.50',\n",
       "       '3.8', '2.50', '0.00', '4.00', '3.50', '1.3', '3.00', '1.00',\n",
       "       '5.0', '3.3', '4.8', '2.00', '1.75', '0.75', '1.25', '1.1', '2.1',\n",
       "       '0.9', '3.1', '4.125', '3.125', '2.125', '2.9', '0.1', '2.8',\n",
       "       '3.7', '3.4', '3.6', '2.85', '2.3', '3.2', '3.65', '1.8'],\n",
       "      dtype=object)"
      ]
     },
     "execution_count": 13,
     "metadata": {},
     "output_type": "execute_result"
    }
   ],
   "source": [
    "df['Stars'].unique()"
   ]
  },
  {
   "cell_type": "markdown",
   "metadata": {},
   "source": [
    "I tried to search around to understand what `NR` stands for and why there are `Unrated` or mixing rated ramen but couldn't find a clue. Because there is **under 1%** of our data having these values, I will remove them and transform the column to a numeric one for further analysis."
   ]
  },
  {
   "cell_type": "code",
   "execution_count": 14,
   "metadata": {},
   "outputs": [
    {
     "name": "stdout",
     "output_type": "stream",
     "text": [
      "Percentage of rows with `Unrated`, `NR` or mixing rates in the dataset is 0.75%.\n"
     ]
    }
   ],
   "source": [
    "string_star_mask = df['Stars'].isin(['Unrated', 'NR', '1/4', '1/2', '1/3', \n",
    "                                     '3.5/2.5', '4/4', '5/5', '4.5/5', \n",
    "                                     '5/2.5', '5/4', '4.25/5'])\n",
    "df_length = len(df)\n",
    "\n",
    "print(f\"Percentage of rows with `Unrated`, `NR` or mixing rates in the dataset is {np.sum(string_star_mask)*100/df_length:.2}%.\")"
   ]
  },
  {
   "cell_type": "code",
   "execution_count": 15,
   "metadata": {},
   "outputs": [],
   "source": [
    "df = df[~string_star_mask]"
   ]
  },
  {
   "cell_type": "code",
   "execution_count": 16,
   "metadata": {},
   "outputs": [],
   "source": [
    "df['Stars'] = pd.to_numeric(df['Stars'])"
   ]
  },
  {
   "cell_type": "markdown",
   "metadata": {},
   "source": [
    "Now I can plot a histogram for `Stars` to see the distribution of ratings. From the plot below, I see that the ratings are left-skewed."
   ]
  },
  {
   "cell_type": "code",
   "execution_count": 17,
   "metadata": {},
   "outputs": [
    {
     "data": {
      "image/png": "[encoded data removed]",
      "text/plain": [
       "<Figure size 432x360 with 1 Axes>"
      ]
     },
     "metadata": {},
     "output_type": "display_data"
    }
   ],
   "source": [
    "fig, ax = plt.subplots(figsize=(6, 5))\n",
    "ax = df['Stars'].hist(color='goldenrod')\n",
    "plt.xlabel('Rating')\n",
    "plt.ylabel('Number of Ramen')\n",
    "_ = plt.title('Rating Histogram')"
   ]
  },
  {
   "cell_type": "markdown",
   "metadata": {},
   "source": [
    "On average, Hans rates around 3.7 for a ramen. This and the distribution shows that Hans generally rates ramen above 3 stars."
   ]
  },
  {
   "cell_type": "code",
   "execution_count": 18,
   "metadata": {},
   "outputs": [
    {
     "data": {
      "text/plain": [
       "3.675026833631485"
      ]
     },
     "execution_count": 18,
     "metadata": {},
     "output_type": "execute_result"
    }
   ],
   "source": [
    "df['Stars'].mean()"
   ]
  },
  {
   "cell_type": "code",
   "execution_count": 19,
   "metadata": {},
   "outputs": [
    {
     "data": {
      "text/plain": [
       "3.75"
      ]
     },
     "execution_count": 19,
     "metadata": {},
     "output_type": "execute_result"
    }
   ],
   "source": [
    "df['Stars'].median()"
   ]
  },
  {
   "cell_type": "markdown",
   "metadata": {},
   "source": [
    "## 2. Worst Ramen in the World"
   ]
  },
  {
   "cell_type": "markdown",
   "metadata": {},
   "source": [
    "Like observed above, most of Hans' ratings are above 3. Which makes me super curious on those having ratings below 3, especially the lowest ones -- I actually want to try those to see if they really deserve the low rating.\n",
    "\n",
    "Before finding out these ramen, I have to say that Hans has an interesting rating system with decimals. I'm sure there are reasons behind it. But to simplify my analysis, I will bin ratings into these groups:\n",
    "* Under 1\n",
    "* 1-2\n",
    "* 2-3\n",
    "* 3-4\n",
    "* 4-5"
   ]
  },
  {
   "cell_type": "code",
   "execution_count": 20,
   "metadata": {},
   "outputs": [
    {
     "data": {
      "text/plain": [
       "array([0.   , 0.1  , 0.25 , 0.5  , 0.75 , 0.9  , 1.   , 1.1  , 1.25 ,\n",
       "       1.3  , 1.5  , 1.75 , 1.8  , 2.   , 2.1  , 2.125, 2.25 , 2.3  ,\n",
       "       2.5  , 2.75 , 2.8  , 2.85 , 2.9  , 3.   , 3.1  , 3.125, 3.2  ,\n",
       "       3.25 , 3.3  , 3.4  , 3.5  , 3.6  , 3.65 , 3.7  , 3.75 , 3.8  ,\n",
       "       4.   , 4.125, 4.25 , 4.3  , 4.5  , 4.75 , 4.8  , 5.   ])"
      ]
     },
     "execution_count": 20,
     "metadata": {},
     "output_type": "execute_result"
    }
   ],
   "source": [
    "df['Stars'].sort_values().unique()"
   ]
  },
  {
   "cell_type": "code",
   "execution_count": 21,
   "metadata": {},
   "outputs": [],
   "source": [
    "rating_bins = [0, 1, 2, 3, 4, 5]\n",
    "rating_bin_labels = ['0-1', '1-2', '2-3', '3-4', '4-5']\n",
    "\n",
    "df['RatingGroups'] = pd.cut(df['Stars'], rating_bins, include_lowest=True, right=True, labels=rating_bin_labels)"
   ]
  },
  {
   "cell_type": "markdown",
   "metadata": {},
   "source": [
    "The worst ramen for me in this case are those that are rated from 0 to 1 star. Let's dive into this list."
   ]
  },
  {
   "cell_type": "code",
   "execution_count": 22,
   "metadata": {},
   "outputs": [],
   "source": [
    "worst_ramen = df[df['RatingGroups'] == '0-1'].sort_values(by='Stars')"
   ]
  },
  {
   "cell_type": "code",
   "execution_count": 23,
   "metadata": {},
   "outputs": [
    {
     "data": {
      "text/html": [
       "<div>\n",
       "<style scoped>\n",
       "    .dataframe tbody tr th:only-of-type {\n",
       "        vertical-align: middle;\n",
       "    }\n",
       "\n",
       "    .dataframe tbody tr th {\n",
       "        vertical-align: top;\n",
       "    }\n",
       "\n",
       "    .dataframe thead th {\n",
       "        text-align: right;\n",
       "    }\n",
       "</style>\n",
       "<table border=\"1\" class=\"dataframe\">\n",
       "  <thead>\n",
       "    <tr style=\"text-align: right;\">\n",
       "      <th></th>\n",
       "      <th>Review #</th>\n",
       "      <th>Brand</th>\n",
       "      <th>Variety</th>\n",
       "      <th>Style</th>\n",
       "      <th>Country</th>\n",
       "      <th>Stars</th>\n",
       "      <th>Top Ten</th>\n",
       "      <th>RatingGroups</th>\n",
       "    </tr>\n",
       "  </thead>\n",
       "  <tbody>\n",
       "    <tr>\n",
       "      <th>1445</th>\n",
       "      <td>1371</td>\n",
       "      <td>Campbell's</td>\n",
       "      <td>Hearty Noodles Thai Flavour</td>\n",
       "      <td>Cup</td>\n",
       "      <td>Canada</td>\n",
       "      <td>0.0</td>\n",
       "      <td>NaN</td>\n",
       "      <td>0-1</td>\n",
       "    </tr>\n",
       "    <tr>\n",
       "      <th>2523</th>\n",
       "      <td>293</td>\n",
       "      <td>Tiger</td>\n",
       "      <td>Onion Flaver Rice Noodle</td>\n",
       "      <td>Bowl</td>\n",
       "      <td>Taiwan</td>\n",
       "      <td>0.0</td>\n",
       "      <td>NaN</td>\n",
       "      <td>0-1</td>\n",
       "    </tr>\n",
       "  </tbody>\n",
       "</table>\n",
       "</div>"
      ],
      "text/plain": [
       "      Review #       Brand                      Variety Style Country  Stars  \\\n",
       "1445      1371  Campbell's  Hearty Noodles Thai Flavour   Cup  Canada    0.0   \n",
       "2523       293       Tiger     Onion Flaver Rice Noodle  Bowl  Taiwan    0.0   \n",
       "\n",
       "     Top Ten RatingGroups  \n",
       "1445     NaN          0-1  \n",
       "2523     NaN          0-1  "
      ]
     },
     "execution_count": 23,
     "metadata": {},
     "output_type": "execute_result"
    }
   ],
   "source": [
    "worst_ramen.head(2)"
   ]
  },
  {
   "cell_type": "markdown",
   "metadata": {},
   "source": [
    "### Brands\n",
    "Below are the top 5 brands with the most number of worst ramen."
   ]
  },
  {
   "cell_type": "code",
   "execution_count": 24,
   "metadata": {},
   "outputs": [
    {
     "data": {
      "text/plain": [
       "Brand\n",
       "Baijia              6\n",
       "Acecook             4\n",
       "Maruchan            3\n",
       "Mr. Noodles         3\n",
       "Sichuan Guangyou    2\n",
       "Name: Review #, dtype: int64"
      ]
     },
     "execution_count": 24,
     "metadata": {},
     "output_type": "execute_result"
    }
   ],
   "source": [
    "worst_ramen.groupby('Brand')['Review #'].count().sort_values(ascending=False).head(5)"
   ]
  },
  {
   "cell_type": "markdown",
   "metadata": {},
   "source": [
    "They are not necessarily the worst brands though, because the total number of worst ramen under each brand doesn't differentiate that much."
   ]
  },
  {
   "cell_type": "code",
   "execution_count": 25,
   "metadata": {},
   "outputs": [
    {
     "data": {
      "image/png": "[encoded data removed]",
      "text/plain": [
       "<Figure size 432x360 with 1 Axes>"
      ]
     },
     "metadata": {},
     "output_type": "display_data"
    }
   ],
   "source": [
    "fig, ax = plt.subplots(figsize=(6, 5))\n",
    "ax = worst_ramen.groupby('Brand')['Variety'].count().hist(bins=5, color='goldenrod')\n",
    "plt.xlabel('Number of Ramen')\n",
    "plt.ylabel('Number of Brands')\n",
    "_ = plt.title('Histogram - Number of Worst Ramen Per Brand')"
   ]
  },
  {
   "cell_type": "markdown",
   "metadata": {},
   "source": [
    "### Countries\n",
    "Guess which country that makes me very suprised from this list? Yes, you're right, it's Japan. I mean, it's the kingdom of ramen!"
   ]
  },
  {
   "cell_type": "code",
   "execution_count": 26,
   "metadata": {},
   "outputs": [
    {
     "data": {
      "text/plain": [
       "Country\n",
       "Japan            13\n",
       "United States    12\n",
       "China            12\n",
       "Taiwan           10\n",
       "Canada           10\n",
       "Thailand          7\n",
       "South Korea       5\n",
       "Vietnam           4\n",
       "UK                4\n",
       "Netherlands       3\n",
       "Name: Review #, dtype: int64"
      ]
     },
     "execution_count": 26,
     "metadata": {},
     "output_type": "execute_result"
    }
   ],
   "source": [
    "worst_ramen.groupby('Country')['Review #'].count().sort_values(ascending=False).head(10)"
   ]
  },
  {
   "cell_type": "code",
   "execution_count": 27,
   "metadata": {},
   "outputs": [
    {
     "data": {
      "image/png": "[encoded data removed]",
      "text/plain": [
       "<Figure size 432x360 with 1 Axes>"
      ]
     },
     "metadata": {},
     "output_type": "display_data"
    }
   ],
   "source": [
    "fig, ax = plt.subplots(figsize=(6, 5))\n",
    "ax = worst_ramen.groupby('Country')['Review #'].count().hist(color='goldenrod')\n",
    "plt.xlabel('Number of Ramen')\n",
    "plt.ylabel('Number of Country')\n",
    "_ = plt.title('Histogram - Number of Worst Ramen Per Country')"
   ]
  },
  {
   "cell_type": "markdown",
   "metadata": {},
   "source": [
    "My hypothesis is that they produce a lot of ramen (or Hans might try a lot of Japanese ramen), so proportion-wise, it's not too bad. Let's take a look! \n",
    "\n",
    "And I guess I'm right? Because it's only 3% of all Japanese ramen in the list."
   ]
  },
  {
   "cell_type": "code",
   "execution_count": 28,
   "metadata": {},
   "outputs": [
    {
     "name": "stdout",
     "output_type": "stream",
     "text": [
      "3.1%\n"
     ]
    }
   ],
   "source": [
    "print(f\"{np.sum(worst_ramen['Country']=='Japan')*100/np.sum(df['Country'] == 'Japan'):.2}%\")"
   ]
  },
  {
   "cell_type": "markdown",
   "metadata": {},
   "source": [
    "### Style\n",
    "I don't think the style of ramen matters that much. But let's take a look anyway."
   ]
  },
  {
   "cell_type": "code",
   "execution_count": 29,
   "metadata": {},
   "outputs": [
    {
     "data": {
      "text/plain": [
       "Style\n",
       "Pack    46\n",
       "Cup     21\n",
       "Bowl    18\n",
       "Tray     5\n",
       "Name: Review #, dtype: int64"
      ]
     },
     "execution_count": 29,
     "metadata": {},
     "output_type": "execute_result"
    }
   ],
   "source": [
    "worst_ramen.groupby('Style')['Review #'].count().sort_values(ascending=False).head(10)"
   ]
  },
  {
   "cell_type": "markdown",
   "metadata": {},
   "source": [
    "Honestly, I'm interested in trying that `Anchovy Flavor Guava Rice Noodles` out! It seems to be out of stock from all the sites I've searched so far though."
   ]
  },
  {
   "cell_type": "code",
   "execution_count": 30,
   "metadata": {},
   "outputs": [
    {
     "data": {
      "text/html": [
       "<div>\n",
       "<style scoped>\n",
       "    .dataframe tbody tr th:only-of-type {\n",
       "        vertical-align: middle;\n",
       "    }\n",
       "\n",
       "    .dataframe tbody tr th {\n",
       "        vertical-align: top;\n",
       "    }\n",
       "\n",
       "    .dataframe thead th {\n",
       "        text-align: right;\n",
       "    }\n",
       "</style>\n",
       "<table border=\"1\" class=\"dataframe\">\n",
       "  <thead>\n",
       "    <tr style=\"text-align: right;\">\n",
       "      <th></th>\n",
       "      <th>Review #</th>\n",
       "      <th>Brand</th>\n",
       "      <th>Variety</th>\n",
       "      <th>Style</th>\n",
       "      <th>Country</th>\n",
       "      <th>Stars</th>\n",
       "      <th>Top Ten</th>\n",
       "      <th>RatingGroups</th>\n",
       "    </tr>\n",
       "  </thead>\n",
       "  <tbody>\n",
       "    <tr>\n",
       "      <th>2430</th>\n",
       "      <td>386</td>\n",
       "      <td>US Canning</td>\n",
       "      <td>Fu Chang Chinese Noodle Company Pork Seafood</td>\n",
       "      <td>Tray</td>\n",
       "      <td>United States</td>\n",
       "      <td>0.00</td>\n",
       "      <td>NaN</td>\n",
       "      <td>0-1</td>\n",
       "    </tr>\n",
       "    <tr>\n",
       "      <th>899</th>\n",
       "      <td>1917</td>\n",
       "      <td>IbuRamen</td>\n",
       "      <td>Mi Goreng Bento Noodles In A Box Hot Sweet &amp; S...</td>\n",
       "      <td>Tray</td>\n",
       "      <td>United States</td>\n",
       "      <td>0.25</td>\n",
       "      <td>NaN</td>\n",
       "      <td>0-1</td>\n",
       "    </tr>\n",
       "    <tr>\n",
       "      <th>1603</th>\n",
       "      <td>1213</td>\n",
       "      <td>Nan Jie Cun</td>\n",
       "      <td>Hot -Dry Instant Noodles Chilli Flavour</td>\n",
       "      <td>Tray</td>\n",
       "      <td>China</td>\n",
       "      <td>0.50</td>\n",
       "      <td>NaN</td>\n",
       "      <td>0-1</td>\n",
       "    </tr>\n",
       "    <tr>\n",
       "      <th>297</th>\n",
       "      <td>2519</td>\n",
       "      <td>Guava Story</td>\n",
       "      <td>Anchovy Flavor Guava Rice Noodles</td>\n",
       "      <td>Tray</td>\n",
       "      <td>South Korea</td>\n",
       "      <td>1.00</td>\n",
       "      <td>NaN</td>\n",
       "      <td>0-1</td>\n",
       "    </tr>\n",
       "    <tr>\n",
       "      <th>418</th>\n",
       "      <td>2398</td>\n",
       "      <td>Liang Cheng Mai</td>\n",
       "      <td>Shaanxi Cold Noodle: Mustard Spicy</td>\n",
       "      <td>Tray</td>\n",
       "      <td>China</td>\n",
       "      <td>1.00</td>\n",
       "      <td>NaN</td>\n",
       "      <td>0-1</td>\n",
       "    </tr>\n",
       "  </tbody>\n",
       "</table>\n",
       "</div>"
      ],
      "text/plain": [
       "      Review #            Brand  \\\n",
       "2430       386       US Canning   \n",
       "899       1917         IbuRamen   \n",
       "1603      1213      Nan Jie Cun   \n",
       "297       2519      Guava Story   \n",
       "418       2398  Liang Cheng Mai   \n",
       "\n",
       "                                                Variety Style        Country  \\\n",
       "2430       Fu Chang Chinese Noodle Company Pork Seafood  Tray  United States   \n",
       "899   Mi Goreng Bento Noodles In A Box Hot Sweet & S...  Tray  United States   \n",
       "1603            Hot -Dry Instant Noodles Chilli Flavour  Tray          China   \n",
       "297                   Anchovy Flavor Guava Rice Noodles  Tray    South Korea   \n",
       "418                  Shaanxi Cold Noodle: Mustard Spicy  Tray          China   \n",
       "\n",
       "      Stars Top Ten RatingGroups  \n",
       "2430   0.00     NaN          0-1  \n",
       "899    0.25     NaN          0-1  \n",
       "1603   0.50     NaN          0-1  \n",
       "297    1.00     NaN          0-1  \n",
       "418    1.00     NaN          0-1  "
      ]
     },
     "execution_count": 30,
     "metadata": {},
     "output_type": "execute_result"
    }
   ],
   "source": [
    "worst_ramen[worst_ramen['Style'] == 'Tray']"
   ]
  },
  {
   "cell_type": "markdown",
   "metadata": {},
   "source": [
    "## 3. The Unexpected Ramen\n",
    "Besides the worst ramen list, I love it because Hans also includes some very unexpected *ramen*. Like these below:"
   ]
  },
  {
   "cell_type": "code",
   "execution_count": 31,
   "metadata": {},
   "outputs": [
    {
     "data": {
      "text/html": [
       "<div>\n",
       "<style scoped>\n",
       "    .dataframe tbody tr th:only-of-type {\n",
       "        vertical-align: middle;\n",
       "    }\n",
       "\n",
       "    .dataframe tbody tr th {\n",
       "        vertical-align: top;\n",
       "    }\n",
       "\n",
       "    .dataframe thead th {\n",
       "        text-align: right;\n",
       "    }\n",
       "</style>\n",
       "<table border=\"1\" class=\"dataframe\">\n",
       "  <thead>\n",
       "    <tr style=\"text-align: right;\">\n",
       "      <th></th>\n",
       "      <th>Review #</th>\n",
       "      <th>Brand</th>\n",
       "      <th>Variety</th>\n",
       "      <th>Style</th>\n",
       "      <th>Country</th>\n",
       "      <th>Stars</th>\n",
       "      <th>Top Ten</th>\n",
       "      <th>RatingGroups</th>\n",
       "    </tr>\n",
       "  </thead>\n",
       "  <tbody>\n",
       "    <tr>\n",
       "      <th>303</th>\n",
       "      <td>2513</td>\n",
       "      <td>Pringles</td>\n",
       "      <td>Nissin Top Ramen Chicken Flavor Potato Crisps</td>\n",
       "      <td>Can</td>\n",
       "      <td>United States</td>\n",
       "      <td>4.0</td>\n",
       "      <td>NaN</td>\n",
       "      <td>3-4</td>\n",
       "    </tr>\n",
       "    <tr>\n",
       "      <th>1661</th>\n",
       "      <td>1155</td>\n",
       "      <td>Komforte Chockolates</td>\n",
       "      <td>Savory Ramen</td>\n",
       "      <td>Bar</td>\n",
       "      <td>United States</td>\n",
       "      <td>5.0</td>\n",
       "      <td>NaN</td>\n",
       "      <td>4-5</td>\n",
       "    </tr>\n",
       "  </tbody>\n",
       "</table>\n",
       "</div>"
      ],
      "text/plain": [
       "      Review #                 Brand  \\\n",
       "303       2513              Pringles   \n",
       "1661      1155  Komforte Chockolates   \n",
       "\n",
       "                                             Variety Style        Country  \\\n",
       "303   Nissin Top Ramen Chicken Flavor Potato Crisps    Can  United States   \n",
       "1661                                   Savory Ramen    Bar  United States   \n",
       "\n",
       "      Stars Top Ten RatingGroups  \n",
       "303     4.0     NaN          3-4  \n",
       "1661    5.0     NaN          4-5  "
      ]
     },
     "execution_count": 31,
     "metadata": {},
     "output_type": "execute_result"
    }
   ],
   "source": [
    "df[df['Style'].isin(['Can', 'Bar'])]"
   ]
  },
  {
   "cell_type": "code",
   "execution_count": null,
   "metadata": {},
   "outputs": [],
   "source": []
  }
 ],
 "metadata": {
  "kernelspec": {
   "display_name": "Python 3",
   "language": "python",
   "name": "python3"
  },
  "language_info": {
   "codemirror_mode": {
    "name": "ipython",
    "version": 3
   },
   "file_extension": ".py",
   "mimetype": "text/x-python",
   "name": "python",
   "nbconvert_exporter": "python",
   "pygments_lexer": "ipython3",
   "version": "3.7.0"
  }
 },
 "nbformat": 4,
 "nbformat_minor": 2
}
